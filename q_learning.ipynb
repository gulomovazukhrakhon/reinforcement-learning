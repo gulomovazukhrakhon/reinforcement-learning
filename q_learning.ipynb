{
 "cells": [
  {
   "cell_type": "markdown",
   "id": "48303283",
   "metadata": {
    "papermill": {
     "duration": 0.005165,
     "end_time": "2024-05-27T14:04:01.433308",
     "exception": false,
     "start_time": "2024-05-27T14:04:01.428143",
     "status": "completed"
    },
    "tags": []
   },
   "source": [
    "# OpenAI Gym and Python for Q-learning "
   ]
  },
  {
   "cell_type": "code",
   "execution_count": 1,
   "id": "f9761302",
   "metadata": {
    "execution": {
     "iopub.execute_input": "2024-05-27T14:04:01.444866Z",
     "iopub.status.busy": "2024-05-27T14:04:01.444399Z",
     "iopub.status.idle": "2024-05-27T14:04:33.808649Z",
     "shell.execute_reply": "2024-05-27T14:04:33.807186Z"
    },
    "papermill": {
     "duration": 32.373208,
     "end_time": "2024-05-27T14:04:33.811458",
     "exception": false,
     "start_time": "2024-05-27T14:04:01.438250",
     "status": "completed"
    },
    "tags": []
   },
   "outputs": [
    {
     "name": "stdout",
     "output_type": "stream",
     "text": [
      "Requirement already satisfied: gym in /opt/conda/lib/python3.10/site-packages (0.26.2)\r\n",
      "Requirement already satisfied: numpy>=1.18.0 in /opt/conda/lib/python3.10/site-packages (from gym) (1.26.4)\r\n",
      "Requirement already satisfied: cloudpickle>=1.2.0 in /opt/conda/lib/python3.10/site-packages (from gym) (2.2.1)\r\n",
      "Requirement already satisfied: gym-notices>=0.0.4 in /opt/conda/lib/python3.10/site-packages (from gym) (0.0.8)\r\n",
      "Requirement already satisfied: gymnasium[toy-text] in /opt/conda/lib/python3.10/site-packages (0.29.0)\r\n",
      "Requirement already satisfied: numpy>=1.21.0 in /opt/conda/lib/python3.10/site-packages (from gymnasium[toy-text]) (1.26.4)\r\n",
      "Requirement already satisfied: cloudpickle>=1.2.0 in /opt/conda/lib/python3.10/site-packages (from gymnasium[toy-text]) (2.2.1)\r\n",
      "Requirement already satisfied: typing-extensions>=4.3.0 in /opt/conda/lib/python3.10/site-packages (from gymnasium[toy-text]) (4.9.0)\r\n",
      "Requirement already satisfied: farama-notifications>=0.0.1 in /opt/conda/lib/python3.10/site-packages (from gymnasium[toy-text]) (0.0.4)\r\n",
      "Collecting pygame>=2.1.3 (from gymnasium[toy-text])\r\n",
      "  Downloading pygame-2.5.2-cp310-cp310-manylinux_2_17_x86_64.manylinux2014_x86_64.whl.metadata (13 kB)\r\n",
      "Downloading pygame-2.5.2-cp310-cp310-manylinux_2_17_x86_64.manylinux2014_x86_64.whl (14.0 MB)\r\n",
      "\u001b[2K   \u001b[90m━━━━━━━━━━━━━━━━━━━━━━━━━━━━━━━━━━━━━━━━\u001b[0m \u001b[32m14.0/14.0 MB\u001b[0m \u001b[31m70.0 MB/s\u001b[0m eta \u001b[36m0:00:00\u001b[0m\r\n",
      "\u001b[?25hInstalling collected packages: pygame\r\n",
      "Successfully installed pygame-2.5.2\r\n"
     ]
    }
   ],
   "source": [
    "!pip install gym\n",
    "!pip install gymnasium[toy-text]"
   ]
  },
  {
   "cell_type": "markdown",
   "id": "5f087ade",
   "metadata": {
    "papermill": {
     "duration": 0.00583,
     "end_time": "2024-05-27T14:04:33.823532",
     "exception": false,
     "start_time": "2024-05-27T14:04:33.817702",
     "status": "completed"
    },
    "tags": []
   },
   "source": [
    "## Notebook Imports"
   ]
  },
  {
   "cell_type": "code",
   "execution_count": 2,
   "id": "00378b6c",
   "metadata": {
    "execution": {
     "iopub.execute_input": "2024-05-27T14:04:33.837726Z",
     "iopub.status.busy": "2024-05-27T14:04:33.837307Z",
     "iopub.status.idle": "2024-05-27T14:04:34.415724Z",
     "shell.execute_reply": "2024-05-27T14:04:34.414484Z"
    },
    "papermill": {
     "duration": 0.588911,
     "end_time": "2024-05-27T14:04:34.418581",
     "exception": false,
     "start_time": "2024-05-27T14:04:33.829670",
     "status": "completed"
    },
    "tags": []
   },
   "outputs": [],
   "source": [
    "import numpy as np\n",
    "import gymnasium as gym\n",
    "import random\n",
    "import time\n",
    "from IPython.display import clear_output"
   ]
  },
  {
   "cell_type": "code",
   "execution_count": 3,
   "id": "4a8b03e7",
   "metadata": {
    "execution": {
     "iopub.execute_input": "2024-05-27T14:04:34.432988Z",
     "iopub.status.busy": "2024-05-27T14:04:34.432553Z",
     "iopub.status.idle": "2024-05-27T14:04:34.447499Z",
     "shell.execute_reply": "2024-05-27T14:04:34.446294Z"
    },
    "papermill": {
     "duration": 0.025266,
     "end_time": "2024-05-27T14:04:34.450215",
     "exception": false,
     "start_time": "2024-05-27T14:04:34.424949",
     "status": "completed"
    },
    "tags": []
   },
   "outputs": [],
   "source": [
    "env = gym.make('FrozenLake-v1', render_mode=\"rgb_array\")"
   ]
  },
  {
   "cell_type": "code",
   "execution_count": 4,
   "id": "e5ddf530",
   "metadata": {
    "execution": {
     "iopub.execute_input": "2024-05-27T14:04:34.464897Z",
     "iopub.status.busy": "2024-05-27T14:04:34.464448Z",
     "iopub.status.idle": "2024-05-27T14:04:34.471709Z",
     "shell.execute_reply": "2024-05-27T14:04:34.470628Z"
    },
    "papermill": {
     "duration": 0.017516,
     "end_time": "2024-05-27T14:04:34.474122",
     "exception": false,
     "start_time": "2024-05-27T14:04:34.456606",
     "status": "completed"
    },
    "tags": []
   },
   "outputs": [
    {
     "name": "stdout",
     "output_type": "stream",
     "text": [
      "[[0. 0. 0. 0.]\n",
      " [0. 0. 0. 0.]\n",
      " [0. 0. 0. 0.]\n",
      " [0. 0. 0. 0.]\n",
      " [0. 0. 0. 0.]\n",
      " [0. 0. 0. 0.]\n",
      " [0. 0. 0. 0.]\n",
      " [0. 0. 0. 0.]\n",
      " [0. 0. 0. 0.]\n",
      " [0. 0. 0. 0.]\n",
      " [0. 0. 0. 0.]\n",
      " [0. 0. 0. 0.]\n",
      " [0. 0. 0. 0.]\n",
      " [0. 0. 0. 0.]\n",
      " [0. 0. 0. 0.]\n",
      " [0. 0. 0. 0.]]\n"
     ]
    }
   ],
   "source": [
    "action_space_size = env.action_space.n\n",
    "state_space_size = env.observation_space.n\n",
    "\n",
    "q_table = np.zeros((state_space_size, action_space_size))\n",
    "print(q_table)"
   ]
  },
  {
   "cell_type": "markdown",
   "id": "60bf446a",
   "metadata": {
    "papermill": {
     "duration": 0.006141,
     "end_time": "2024-05-27T14:04:34.486653",
     "exception": false,
     "start_time": "2024-05-27T14:04:34.480512",
     "status": "completed"
    },
    "tags": []
   },
   "source": [
    "### Parameters"
   ]
  },
  {
   "cell_type": "code",
   "execution_count": 5,
   "id": "99bee1c7",
   "metadata": {
    "execution": {
     "iopub.execute_input": "2024-05-27T14:04:34.500783Z",
     "iopub.status.busy": "2024-05-27T14:04:34.500364Z",
     "iopub.status.idle": "2024-05-27T14:04:34.506242Z",
     "shell.execute_reply": "2024-05-27T14:04:34.505149Z"
    },
    "papermill": {
     "duration": 0.015746,
     "end_time": "2024-05-27T14:04:34.508560",
     "exception": false,
     "start_time": "2024-05-27T14:04:34.492814",
     "status": "completed"
    },
    "tags": []
   },
   "outputs": [],
   "source": [
    "num_episodes = 10000\n",
    "max_steps_per_episode = 100\n",
    "\n",
    "learning_rate = 0.1\n",
    "discount_rate = 0.99\n",
    "\n",
    "exploration_rate = 1\n",
    "max_exploration_rate = 1\n",
    "min_exploration_rate = 0.01\n",
    "exploration_decay_rate = 0.001"
   ]
  },
  {
   "cell_type": "markdown",
   "id": "0d1ec1b8",
   "metadata": {
    "papermill": {
     "duration": 0.005958,
     "end_time": "2024-05-27T14:04:34.520825",
     "exception": false,
     "start_time": "2024-05-27T14:04:34.514867",
     "status": "completed"
    },
    "tags": []
   },
   "source": [
    "### Train Q-learning Agent "
   ]
  },
  {
   "cell_type": "code",
   "execution_count": 6,
   "id": "84232a5e",
   "metadata": {
    "execution": {
     "iopub.execute_input": "2024-05-27T14:04:34.535161Z",
     "iopub.status.busy": "2024-05-27T14:04:34.534733Z",
     "iopub.status.idle": "2024-05-27T14:04:48.238493Z",
     "shell.execute_reply": "2024-05-27T14:04:48.237343Z"
    },
    "papermill": {
     "duration": 13.714401,
     "end_time": "2024-05-27T14:04:48.241563",
     "exception": false,
     "start_time": "2024-05-27T14:04:34.527162",
     "status": "completed"
    },
    "tags": []
   },
   "outputs": [
    {
     "name": "stdout",
     "output_type": "stream",
     "text": [
      "*****Average reward per Thousand*****\n",
      "\n",
      "1000: 0.03300000000000002\n",
      "2000: 0.20700000000000016\n",
      "3000: 0.43200000000000033\n",
      "4000: 0.5480000000000004\n",
      "5000: 0.6320000000000005\n",
      "6000: 0.6710000000000005\n",
      "7000: 0.6440000000000005\n",
      "8000: 0.6960000000000005\n",
      "9000: 0.6900000000000005\n",
      "10000: 0.6570000000000005\n",
      "\n",
      "\n",
      "*****Q-table*****\n",
      "\n",
      "[[0.47778613 0.425566   0.43001875 0.42111357]\n",
      " [0.29568785 0.32164248 0.29597377 0.44155516]\n",
      " [0.37860636 0.3784898  0.36778446 0.40813978]\n",
      " [0.24113848 0.34288069 0.20397167 0.37770481]\n",
      " [0.49434174 0.42988984 0.26972071 0.37000059]\n",
      " [0.         0.         0.         0.        ]\n",
      " [0.17336515 0.16115442 0.32625874 0.07242959]\n",
      " [0.         0.         0.         0.        ]\n",
      " [0.35547909 0.32256439 0.39230244 0.53078137]\n",
      " [0.40245709 0.58059268 0.43547834 0.48330309]\n",
      " [0.56481415 0.37512832 0.3652048  0.33431707]\n",
      " [0.         0.         0.         0.        ]\n",
      " [0.         0.         0.         0.        ]\n",
      " [0.46223395 0.48942854 0.69959648 0.48432051]\n",
      " [0.68088383 0.8185724  0.67176957 0.65599771]\n",
      " [0.         0.         0.         0.        ]]\n"
     ]
    }
   ],
   "source": [
    "rewards_all_episodes = []\n",
    "\n",
    "# Q-learning Algorithm\n",
    "for episode in range(num_episodes):\n",
    "    state = env.reset()[0]\n",
    "    \n",
    "    done = False\n",
    "    rewards_current_episode = 0\n",
    "    \n",
    "    for step in range(max_steps_per_episode):\n",
    "        \n",
    "        # Exploration-exploitation trade-off\n",
    "        exploration_rate_threshold = random.uniform(0, 1)\n",
    "        if exploration_rate_threshold > exploration_rate:\n",
    "            action = np.argmax(q_table[state,:]) \n",
    "        else:\n",
    "            action = env.action_space.sample()\n",
    "            \n",
    "        new_state, reward, done, truncated, info = env.step(action)\n",
    "        \n",
    "        # Update Q-table for Q(s, a)\n",
    "        q_table[state, action] = q_table[state, action] * (1 - learning_rate) + \\\n",
    "            learning_rate * (reward + discount_rate * np.max(q_table[new_state, :])) \n",
    "        \n",
    "        state = new_state\n",
    "        rewards_current_episode += reward\n",
    "        \n",
    "        if done == True:\n",
    "            break\n",
    "            \n",
    "    # Exploration rate decay\n",
    "    exploration_rate = min_exploration_rate + (max_exploration_rate - min_exploration_rate) * np.exp(-exploration_decay_rate*episode)\n",
    "    \n",
    "    rewards_all_episodes.append(rewards_current_episode)\n",
    "    \n",
    "# Calculate the average reward per thousand episodes\n",
    "rewards_per_thousand_episodes = np.split(np.array(rewards_all_episodes), num_episodes/1000)\n",
    "count = 1000\n",
    "print('*****Average reward per Thousand*****\\n')\n",
    "\n",
    "for r in rewards_per_thousand_episodes:\n",
    "    print(f'{count}: {sum(r/1000)}')\n",
    "    count+=1000\n",
    "    \n",
    "# Print updated Q-table\n",
    "print('\\n\\n*****Q-table*****\\n')\n",
    "print(q_table)"
   ]
  },
  {
   "cell_type": "markdown",
   "id": "c049f351",
   "metadata": {
    "papermill": {
     "duration": 0.006377,
     "end_time": "2024-05-27T14:04:48.254404",
     "exception": false,
     "start_time": "2024-05-27T14:04:48.248027",
     "status": "completed"
    },
    "tags": []
   },
   "source": [
    "### Watch Q-learning Agent Play"
   ]
  },
  {
   "cell_type": "code",
   "execution_count": 7,
   "id": "2f4366db",
   "metadata": {
    "execution": {
     "iopub.execute_input": "2024-05-27T14:04:48.269311Z",
     "iopub.status.busy": "2024-05-27T14:04:48.268891Z",
     "iopub.status.idle": "2024-05-27T14:05:58.395795Z",
     "shell.execute_reply": "2024-05-27T14:05:58.394752Z"
    },
    "papermill": {
     "duration": 70.137561,
     "end_time": "2024-05-27T14:05:58.398613",
     "exception": false,
     "start_time": "2024-05-27T14:04:48.261052",
     "status": "completed"
    },
    "tags": []
   },
   "outputs": [
    {
     "name": "stdout",
     "output_type": "stream",
     "text": [
      "*****EPISODE: 3 *****\n",
      "\n",
      "\n",
      "\n",
      "\n"
     ]
    }
   ],
   "source": [
    "for episode in range(3):\n",
    "    state = env.reset()[0]\n",
    "    done = False\n",
    "    print(f'*****EPISODE: {episode+1} *****\\n\\n\\n\\n')\n",
    "    time.sleep(1)\n",
    "    \n",
    "    for step in range(max_steps_per_episode):\n",
    "        clear_output(wait=True)\n",
    "        env.render()\n",
    "        time.sleep(0.3)\n",
    "        \n",
    "        action = np.argmax(q_table[state, :])\n",
    "        new_state, reward, done, truncated, info = env.step(action)\n",
    "        \n",
    "        if done:\n",
    "            clear_output(wait=True)\n",
    "            env.render()\n",
    "            \n",
    "            if reward == 1:\n",
    "                print('****You reached the goal!!!*****')\n",
    "                time.sleep(3)\n",
    "                \n",
    "            else:\n",
    "                print('****You fell through a hole!****')\n",
    "                time.sleep(3)\n",
    "            clear_output(wait=True)\n",
    "            break\n",
    "            \n",
    "        state = new_state\n",
    "        \n",
    "env.close()"
   ]
  },
  {
   "cell_type": "code",
   "execution_count": null,
   "id": "ddbcd4a2",
   "metadata": {
    "papermill": {
     "duration": 0.006272,
     "end_time": "2024-05-27T14:05:58.411565",
     "exception": false,
     "start_time": "2024-05-27T14:05:58.405293",
     "status": "completed"
    },
    "tags": []
   },
   "outputs": [],
   "source": []
  }
 ],
 "metadata": {
  "kaggle": {
   "accelerator": "none",
   "dataSources": [],
   "dockerImageVersionId": 30698,
   "isGpuEnabled": false,
   "isInternetEnabled": true,
   "language": "python",
   "sourceType": "notebook"
  },
  "kernelspec": {
   "display_name": "Python 3",
   "language": "python",
   "name": "python3"
  },
  "language_info": {
   "codemirror_mode": {
    "name": "ipython",
    "version": 3
   },
   "file_extension": ".py",
   "mimetype": "text/x-python",
   "name": "python",
   "nbconvert_exporter": "python",
   "pygments_lexer": "ipython3",
   "version": "3.10.13"
  },
  "papermill": {
   "default_parameters": {},
   "duration": 120.416194,
   "end_time": "2024-05-27T14:05:58.838718",
   "environment_variables": {},
   "exception": null,
   "input_path": "__notebook__.ipynb",
   "output_path": "__notebook__.ipynb",
   "parameters": {},
   "start_time": "2024-05-27T14:03:58.422524",
   "version": "2.5.0"
  }
 },
 "nbformat": 4,
 "nbformat_minor": 5
}
